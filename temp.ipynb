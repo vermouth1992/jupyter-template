{
 "cells": [
  {
   "cell_type": "code",
   "execution_count": null,
   "id": "d24aacfb",
   "metadata": {},
   "outputs": [],
   "source": [
    "import numpy as np\n",
    "import os\n",
    "\n",
    "import matplotlib\n",
    "matplotlib.rcParams['text.usetex'] = True\n",
    "import matplotlib.pyplot as plt\n",
    "import matplotlib.ticker as mtick\n",
    "import matplotlib.pyplot as plt\n",
    "import pandas as pd\n",
    "import seaborn as sns\n",
    "\n",
    "plt.rcParams[\"figure.figsize\"] = (15,5)\n",
    "plt.rcParams['lines.markersize'] = 20\n",
    "\n",
    "%config InlineBackend.figure_formats = {'png', 'retina'}\n",
    "\n",
    "# Use type 1 font\n",
    "matplotlib.rcParams['pdf.fonttype'] = 42\n",
    "matplotlib.rcParams['ps.fonttype'] = 42\n",
    "\n",
    "plt.rc('legend', fontsize=20)\n",
    "# JB's favorite Seaborn settings for notebooks\n",
    "rc = {'lines.linewidth': 3, \n",
    "      'axes.labelsize': 30, \n",
    "      'axes.titlesize': 30,\n",
    "      'legend.fontsize': 30,\n",
    "      'xtick.labelsize': 30,\n",
    "      'ytick.labelsize': 30,\n",
    "      'axes.grid' : False\n",
    "     }\n",
    "#       'axes.facecolor': 'DFDFE5'}\n",
    "sns.set_context('notebook', rc=rc)\n",
    "sns.set_style('whitegrid', rc=rc)"
   ]
  },
  {
   "cell_type": "code",
   "execution_count": null,
   "id": "af4046f6",
   "metadata": {},
   "outputs": [],
   "source": [
    "root_path = os.path.expanduser('~/Developer/papers/e-energy21/figures')\n",
    "\n",
    "def save_fig(fig, name):\n",
    "    fig.savefig(os.path.join(root_path, name), dpi=400,bbox_inches='tight')"
   ]
  },
  {
   "cell_type": "code",
   "execution_count": null,
   "id": "d3a00430",
   "metadata": {},
   "outputs": [],
   "source": []
  }
 ],
 "metadata": {
  "kernelspec": {
   "display_name": "Python 3 (ipykernel)",
   "language": "python",
   "name": "python3"
  },
  "language_info": {
   "codemirror_mode": {
    "name": "ipython",
    "version": 3
   },
   "file_extension": ".py",
   "mimetype": "text/x-python",
   "name": "python",
   "nbconvert_exporter": "python",
   "pygments_lexer": "ipython3",
   "version": "3.9.5"
  }
 },
 "nbformat": 4,
 "nbformat_minor": 5
}
